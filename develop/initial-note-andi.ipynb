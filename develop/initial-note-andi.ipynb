{
 "cells": [
  {
   "cell_type": "code",
   "execution_count": 102,
   "metadata": {},
   "outputs": [],
   "source": [
    "# Hack Sample Code\n",
    "# This shows examples of logging in and using the subreddit, submission, redditor, ancd comments objects\n",
    "# It is not implied that you need to collect these specific attributes of submissions or redditors, but are merely examples\n",
    "\n",
    "# Imports\n",
    "import praw\n",
    "import pandas as pd\n",
    "import numpy as np\n",
    "import datetime\n",
    "import os\n"
   ]
  },
  {
   "cell_type": "code",
   "execution_count": 103,
   "metadata": {},
   "outputs": [],
   "source": [
    "\n",
    "# Login and create Reddit instance\n",
    "myClientIDvar = '7H-wkx3wmj96hJazvWQb-A'\n",
    "myClientSecret = 'kKTtoMJA0gYXEr9d0ohMp-niRM0yhw'\n",
    "myRedditUserName = 'Legitimate_Thing5210'\n",
    "reddit = praw.Reddit(client_id=myClientIDvar, client_secret=myClientSecret, user_agent=myRedditUserName)\n"
   ]
  },
  {
   "cell_type": "code",
   "execution_count": 104,
   "metadata": {},
   "outputs": [],
   "source": [
    "\"\"\"\n",
    "Get the top n hot posts from a subreddit\n",
    "Ex: Get the hottest 30 posts from r/christianity:\n",
    "  getHotPosts(30, 'christianity')\n",
    "\"\"\"\n",
    "def getHotPosts(numPosts, subreddit):\n",
    "  return reddit.subreddit(subreddit).hot(limit=numPosts)\n"
   ]
  },
  {
   "cell_type": "code",
   "execution_count": 105,
   "metadata": {},
   "outputs": [],
   "source": [
    "\"\"\"\"\n",
    "Get Dataframe of list of posts's information from a generator\n",
    "Ex: Return a dataframe with info about the 30 hottest posts on r/Christianity\n",
    "  post_generator = getHotPosts(30, 'christianity')\n",
    "  getPostsDf(post_generator, 10)\n",
    "  getPostsDf(post_generator, 10)\n",
    "  getPostsDf(post_generator, 10)\n",
    "\"\"\"\n",
    "def getHotPostsDf(postings_generator, n_postings):\n",
    "  post_info_list = []\n",
    "\n",
    "  for i in range(n_postings):\n",
    "    try:\n",
    "      submission = next(postings_generator)\n",
    "    except:\n",
    "      print(\"No more posts to generate\")\n",
    "      break\n",
    "\n",
    "    post_info_list.append({\n",
    "      'ID': submission.id,\n",
    "      'Sub': submission.subreddit,\n",
    "      'Title': submission.title,\n",
    "      'URL': submission.permalink,\n",
    "      'Time': datetime.datetime.fromtimestamp(submission.created_utc),\n",
    "      'Author': str(submission.author),\n",
    "      'Body': submission.selftext,\n",
    "      'IsSelfPost': bool(submission.is_self)\n",
    "    })\n",
    "      \n",
    "    print('Retrieved data for ' + str(i + 1) + ' posts')\n",
    "\n",
    "  return pd.DataFrame(post_info_list)"
   ]
  },
  {
   "cell_type": "code",
   "execution_count": 106,
   "metadata": {},
   "outputs": [],
   "source": [
    "\"\"\"\n",
    "Get Dataframe of author information\n",
    "\"\"\"\n",
    "def getAuthorInfoDF(dfPosts):\n",
    "\n",
    "    author_list = []\n",
    "\n",
    "    for indexAuthor, thisIndex in enumerate(dfPosts.index):\n",
    "        # Get Entry Information\n",
    "        thisSubmission = reddit.submission(id=dfPosts.loc[thisIndex,'ID'])\n",
    "        thisAuthor = thisSubmission.author\n",
    "\n",
    "        # Get Author Information\n",
    "        TempDictAuthor = {}\n",
    "\n",
    "        # Verifies that author exists and has not been suspended (as suspended accounts do not have most attributes)\n",
    "        if (thisSubmission.author is None) or not hasattr(thisAuthor, 'created_utc'):\n",
    "            continue\n",
    "\n",
    "        # Get data related to the author\n",
    "        TempDictAuthor['userName'] = thisAuthor.name\n",
    "        TempDictAuthor['numComments'] = sum(1 for _ in thisAuthor.comments.top(time_filter=\"month\"))\n",
    "        try:\n",
    "            TempDictAuthor['upsGiven'] = sum(1 for _ in thisAuthor.upvoted())\n",
    "        except:\n",
    "            TempDictAuthor['upsGiven'] = np.nan\n",
    "\n",
    "        try:\n",
    "            TempDictAuthor['downsGiven'] = sum(1 for _ in thisAuthor.downvoted())\n",
    "        except:\n",
    "            TempDictAuthor['downsGiven'] = np.nan\n",
    "\n",
    "        try:\n",
    "            TempDictAuthor['awardsGiven'] = sum(1 for _ in thisAuthor.gildings())\n",
    "        except:\n",
    "            TempDictAuthor['awardsGiven'] = np.nan\n",
    "\n",
    "        TempDictAuthor['numComments'] = len(thisAuthor.trophies())\n",
    "        TempDictAuthor['accountAge'] = thisAuthor.created_utc\n",
    "        TempDictAuthor['totalKarma'] = thisAuthor.total_karma\n",
    "        TempDictAuthor['linkKarma'] = thisAuthor.link_karma\n",
    "        TempDictAuthor['commentKarma'] = thisAuthor.comment_karma\n",
    "        TempDictAuthor['awarderKarma'] = thisAuthor.awarder_karma\n",
    "        TempDictAuthor['awardeeKarma'] = thisAuthor.awardee_karma\n",
    "        TempDictAuthor['isMod'] = thisAuthor.is_mod\n",
    "\n",
    "        author_list.append(TempDictAuthor)\n",
    "\n",
    "        print('Retrieved data for ' + str(indexAuthor + 1) + ' authors')\n",
    "\n",
    "    dfAuthors = pd.DataFrame(author_list)\n",
    "    dfAuthors['isMod'] = dfAuthors['isMod'].astype('bool')\n",
    "    \n",
    "    return dfAuthors"
   ]
  },
  {
   "cell_type": "code",
   "execution_count": null,
   "metadata": {},
   "outputs": [],
   "source": [
    "def getPostsByAuthors(dfAuthors):\n",
    "    dfAuthors = dfAuthors[\"userName\"].drop_duplicates()\n",
    "    posts_lists = []\n",
    "\n",
    "    for _, username in dfAuthors.iterrows():\n",
    "        thisAuthor = reddit.redditor(name=username)\n",
    "        for thisAuthorPost in thisAuthor.submissions.top(time_filter=\"month\"):\n",
    "            posts_lists.append({\n",
    "                'ID': thisAuthorPost.id,\n",
    "                'Author': str(thisAuthor),\n",
    "                'Sub': thisAuthorPost.subreddit,\n",
    "                'Title': thisAuthorPost.title,\n",
    "                'Body': thisAuthorPost.selftext,\n",
    "                'Upvotes': thisAuthorPost.ups,\n",
    "                'Upvote Ratio': thisAuthorPost.upvote_ratio,\n",
    "                'Awards': thisAuthorPost.total_awards_received,\n",
    "                'URL': thisAuthorPost.permalink,\n",
    "                'Time': datetime.datetime.fromtimestamp(thisAuthorPost.created_utc),\n",
    "                'IsSelfPost': bool(thisAuthorPost.is_self)\n",
    "            })\n",
    "    return pd.DataFrame(posts_lists)"
   ]
  },
  {
   "cell_type": "code",
   "execution_count": null,
   "metadata": {},
   "outputs": [],
   "source": [
    "def getCommentsByPosts(dfPosts):\n",
    "    comments_list = []\n",
    "\n",
    "    for _, postID in dfPosts[\"ID\"].iterrows():\n",
    "        thisSubmission = reddit.submission(id=postID)\n",
    "        thisSubmission.comments.replace_more(limit=0)\n",
    "\n",
    "        for tempComment in thisSubmission.comments.list():\n",
    "            if not hasattr(tempComment,'is_submitter'):\n",
    "                continue\n",
    "            comments_list.append({\n",
    "                'ID': tempComment.id,\n",
    "                'Author': tempComment.author,\n",
    "                'Post ID': tempComment.link_id,\n",
    "                'Post': tempComment.submission,\n",
    "                'Body': str(tempComment.body),\n",
    "            })\n",
    "    \n",
    "    return pd.DataFrame(comments_list)"
   ]
  },
  {
   "cell_type": "code",
   "execution_count": 107,
   "metadata": {},
   "outputs": [],
   "source": [
    "'''\n",
    "Converts a Dataframe to CSV File. If './results/target_csv_file' doesn't exist, creates the file.\n",
    "Otherwise appends the dataframe to the existing file\n",
    "'''\n",
    "\n",
    "def DFToCSV(df, target_csv_file='output.csv'):\n",
    "\n",
    "  path = './results/' + target_csv_file\n",
    "  if os.path.exists(path):\n",
    "    df.to_csv(path, mode='a', index=False, header=False)\n",
    "  else:\n",
    "    df.to_csv(path, index=False)\n"
   ]
  },
  {
   "cell_type": "code",
   "execution_count": 108,
   "metadata": {},
   "outputs": [],
   "source": [
    "post_generator = getHotPosts(30, 'bible')"
   ]
  },
  {
   "cell_type": "code",
   "execution_count": null,
   "metadata": {},
   "outputs": [],
   "source": [
    "posts = getHotPostsDf(post_generator, 1)\n",
    "DFToCSV(posts, 'bible_hot_posts.csv')\n",
    "DFToCSV(getAuthorInfoDF(posts), 'bible_authors.csv')"
   ]
  },
  {
   "cell_type": "code",
   "execution_count": null,
   "metadata": {},
   "outputs": [],
   "source": []
  }
 ],
 "metadata": {
  "kernelspec": {
   "display_name": "Python 3.10.4 ('friends')",
   "language": "python",
   "name": "python3"
  },
  "language_info": {
   "codemirror_mode": {
    "name": "ipython",
    "version": 3
   },
   "file_extension": ".py",
   "mimetype": "text/x-python",
   "name": "python",
   "nbconvert_exporter": "python",
   "pygments_lexer": "ipython3",
   "version": "3.10.4"
  },
  "orig_nbformat": 4,
  "vscode": {
   "interpreter": {
    "hash": "dd509f55d2ff13b9dce411278cca8822fba0ca9d097902de44aa53238c8ee558"
   }
  }
 },
 "nbformat": 4,
 "nbformat_minor": 2
}
