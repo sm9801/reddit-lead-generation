{
 "cells": [
  {
   "cell_type": "code",
   "execution_count": null,
   "metadata": {},
   "outputs": [],
   "source": [
    "# Hack Sample Code\n",
    "# This shows examples of logging in and using the subreddit, submission, redditor, ancd comments objects\n",
    "# It is not implied that you need to collect these specific attributes of submissions or redditors, but are merely examples\n",
    "\n",
    "# Imports\n",
    "import praw\n",
    "import pandas as pd\n",
    "import numpy as np\n",
    "import datetime\n",
    "import math\n",
    "from sklearn.feature_extraction.text import TfidfVectorizer\n",
    "import csv\n",
    "import os\n",
    "import nltk\n",
    "from nltk.corpus import stopwords\n",
    "from nltk.tokenize import word_tokenize\n",
    "from sklearn.feature_extraction import text"
   ]
  },
  {
   "cell_type": "code",
   "execution_count": null,
   "metadata": {},
   "outputs": [],
   "source": [
    "directory = 'results'\n",
    "\n",
    "for filename in os.listdir(directory):\n",
    "\n",
    "    if \"_posts\" in filename:\n",
    "\n",
    "        # print(\"./results/\" + filename)\n",
    "       df = pd.read_csv(\"./results/\" + filename)\n",
    "       print(df)\n",
    "\n",
    "    # if \"_comments\" in filename:\n",
    "\n",
    "    #     df = pd.read_csv(\"./results/\" + filename)\n",
    "    #     print(df) \n",
    "\n",
    "\"\"\"\n",
    "directory = 'results'\n",
    "x = os.listdir(directory)\n",
    "print(x)\n",
    "\"\"\""
   ]
  },
  {
   "cell_type": "code",
   "execution_count": null,
   "metadata": {},
   "outputs": [],
   "source": [
    "my_stop_words = text.ENGLISH_STOP_WORDS\n",
    "\n",
    "vectorizer = TfidfVectorizer(stop_words=my_stop_words)\n",
    "X = vectorizer.fit_transform(df['Body'].fillna(''))\n",
    "\n",
    "print(vectorizer.get_feature_names_out())\n",
    "print(X)\n",
    "print(X.shape)"
   ]
  },
  {
   "cell_type": "code",
   "execution_count": null,
   "metadata": {},
   "outputs": [],
   "source": [
    "labels = vectorizer.get_feature_names_out()\n",
    "labels.shape"
   ]
  },
  {
   "cell_type": "code",
   "execution_count": null,
   "metadata": {},
   "outputs": [],
   "source": [
    "print(X)\n",
    "print(X.shape)"
   ]
  },
  {
   "cell_type": "code",
   "execution_count": null,
   "metadata": {},
   "outputs": [],
   "source": [
    "labels[0:100]"
   ]
  },
  {
   "cell_type": "code",
   "execution_count": null,
   "metadata": {},
   "outputs": [],
   "source": [
    "\"\"\"\n",
    "def find_common(list_of_posts):\n",
    "\n",
    "    set_unique_words = set()\n",
    "    list_unique_words = []\n",
    "\n",
    "    for post in list_of_posts:\n",
    "\n",
    "        post = post.split(\" \")\n",
    "        list_unique_words = list_unique_words.append(post)\n",
    "        set_unique_words = set(post).union(set_unique_words)\n",
    "\n",
    "    for x in list_unique_words:\n",
    "        \n",
    "        for y in x:\n",
    "            \n",
    "# for word in list_unique_words:\n",
    "    \n",
    "# perform term frequency and return a dictionary of term frequencies\n",
    "def perform_tf(dict_words, list_of_words):\n",
    "    \n",
    "    # initialize dictionary of term frequencies\n",
    "    # length of list of words\n",
    "    dict_tf = {}\n",
    "    list_of_words_count = len(list_of_words)\n",
    "\n",
    "    for word, count in wordDict.items():\n",
    "        dict_tf[word] = count / float(list_of_words_count)\n",
    "\n",
    "    return dict_tf\n",
    "\n",
    "# perform idf on a given list of posts\n",
    "def perform_idf(list_of_posts):\n",
    "\n",
    "    N = len(list_of_posts)\n",
    "    \n",
    "    # initialize dictionary of idf's\n",
    "    dict_idf = dict.fromkeys(list_of_posts[0].keys(), 0)\n",
    "\n",
    "    for post in list_of_posts:\n",
    "        for word, val in post.items():\n",
    "            if val > 0:\n",
    "                dict_idf[word] += 1\n",
    "    \n",
    "    for word, val in idfDict.items():\n",
    "        dict_idf[word] = math.log(N / float(val))\n",
    "\n",
    "    return dict_idf\n",
    "\n",
    "\"\"\""
   ]
  }
 ],
 "metadata": {
  "kernelspec": {
   "display_name": "Python 3.10.4 ('friends')",
   "language": "python",
   "name": "python3"
  },
  "language_info": {
   "codemirror_mode": {
    "name": "ipython",
    "version": 3
   },
   "file_extension": ".py",
   "mimetype": "text/x-python",
   "name": "python",
   "nbconvert_exporter": "python",
   "pygments_lexer": "ipython3",
   "version": "3.10.4"
  },
  "orig_nbformat": 4,
  "vscode": {
   "interpreter": {
    "hash": "dd509f55d2ff13b9dce411278cca8822fba0ca9d097902de44aa53238c8ee558"
   }
  }
 },
 "nbformat": 4,
 "nbformat_minor": 2
}
