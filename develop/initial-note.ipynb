{
 "cells": [
  {
   "cell_type": "code",
   "execution_count": 4,
   "metadata": {},
   "outputs": [],
   "source": [
    "# Hack Sample Code\n",
    "# This shows examples of logging in and using the subreddit, submission, redditor, ancd comments objects\n",
    "# It is not implied that you need to collect these specific attributes of submissions or redditors, but are merely examples\n",
    "\n",
    "# Imports\n",
    "import praw\n",
    "import pandas as pd\n",
    "import numpy as np\n",
    "import datetime\n"
   ]
  },
  {
   "cell_type": "code",
   "execution_count": 7,
   "metadata": {},
   "outputs": [],
   "source": [
    "\n",
    "# Login and create Reddit instance\n",
    "myClientIDvar = '7H-wkx3wmj96hJazvWQb-A'\n",
    "myClientSecret = 'kKTtoMJA0gYXEr9d0ohMp-niRM0yhw'\n",
    "myRedditUserName = 'Legitimate_Thing5210'\n",
    "reddit = praw.Reddit(client_id=myClientIDvar, client_secret=myClientSecret, user_agent=myRedditUserName)\n"
   ]
  },
  {
   "cell_type": "code",
   "execution_count": 10,
   "metadata": {},
   "outputs": [],
   "source": [
    "\n",
    "# Get Sample Dataframe of top 5 Posts' information\n",
    "dfHeadings = {'Unique':[],'Sub':[],'Title':[],'URL':[],'Time':[],'Author':[],'Body':[],'IsSelfPost':[]}\n",
    "dfPosts = pd.DataFrame(dfHeadings)\n",
    "dfPosts['IsSelfPost'] = dfPosts['IsSelfPost'].astype('bool')\n",
    "subredditName = 'christianity'"
   ]
  },
  {
   "cell_type": "code",
   "execution_count": null,
   "metadata": {},
   "outputs": [],
   "source": [
    "for indexPosts, submission in enumerate(reddit.subreddit(subredditName).hot(limit=5)):\n",
    "    TempDict = {'Unique':submission.id,'Sub':subredditName,'Title':submission.title,'URL':'https://reddit.com'+submission.permalink,'Time':str(datetime.datetime.fromtimestamp(submission.created_utc)),'Author':str(submission.author),'Body':submission.selftext,'IsSelfPost':submission.is_self}\n",
    "    print(submission.is_self)\n",
    "    dfPosts = dfPosts.append(TempDict,ignore_index = True) # Append to dataframe\n",
    "    print('Retrieved data for '+str(indexPosts+1)+' posts')\n",
    "print(dfPosts)\n"
   ]
  },
  {
   "cell_type": "code",
   "execution_count": 9,
   "metadata": {},
   "outputs": [
    {
     "ename": "TypeError",
     "evalue": "array() missing required argument 'object' (pos 0)",
     "output_type": "error",
     "traceback": [
      "\u001b[1;31m---------------------------------------------------------------------------\u001b[0m",
      "\u001b[1;31mTypeError\u001b[0m                                 Traceback (most recent call last)",
      "Cell \u001b[1;32mIn [9], line 18\u001b[0m\n\u001b[0;32m     16\u001b[0m TempDictAuthor[\u001b[39m'\u001b[39m\u001b[39misMod\u001b[39m\u001b[39m'\u001b[39m] \u001b[39m=\u001b[39m thisAuthor\u001b[39m.\u001b[39mis_mod\n\u001b[0;32m     17\u001b[0m numPosts \u001b[39m=\u001b[39m \u001b[39m0\u001b[39m\n\u001b[1;32m---> 18\u001b[0m numCommentsList \u001b[39m=\u001b[39m np\u001b[39m.\u001b[39;49marray()\n\u001b[0;32m     19\u001b[0m \u001b[39m# Get number of posts by the author in the past month and the average number of comments to it\u001b[39;00m\n\u001b[0;32m     20\u001b[0m \u001b[39mfor\u001b[39;00m thisAuthorPost \u001b[39min\u001b[39;00m thisAuthor\u001b[39m.\u001b[39msubmissions\u001b[39m.\u001b[39mtop(time_filter\u001b[39m=\u001b[39m\u001b[39m\"\u001b[39m\u001b[39mmonth\u001b[39m\u001b[39m\"\u001b[39m):\n",
      "\u001b[1;31mTypeError\u001b[0m: array() missing required argument 'object' (pos 0)"
     ]
    }
   ],
   "source": [
    "\n",
    "# Get Sample Dataframe of author information\n",
    "dfHeadingsAuthor = {'userName':[],'accountAge':[],'commentKarma':[],'linkKarma':[],'isMod':[],'numPosts':[],'avgCommentsToPost':[]}\n",
    "dfAuthors = pd.DataFrame(dfHeadingsAuthor)\n",
    "dfAuthors['isMod'] = dfAuthors['isMod'].astype('bool')\n",
    "for indexAuthor, thisIndex in enumerate(dfPosts.index):\n",
    "    # Get Entry Information\n",
    "    thisSubmission = reddit.submission(id=dfPosts.loc[thisIndex,'Unique'])\n",
    "    thisAuthor = thisSubmission.author\n",
    "    # Get Author Information\n",
    "    TempDictAuthor ={}\n",
    "    if ((thisSubmission.author is not None) and hasattr(thisAuthor,'created_utc')): #Verifies that author exists and has not been suspended (as suspended accounts do not have most attributes)\n",
    "        TempDictAuthor['userName'] = thisAuthor.name\n",
    "        TempDictAuthor['accountAge'] = thisAuthor.created_utc\n",
    "        TempDictAuthor['commentKarma'] = thisAuthor.comment_karma\n",
    "        TempDictAuthor['linkKarma'] = thisAuthor.link_karma\n",
    "        TempDictAuthor['isMod'] = thisAuthor.is_mod\n",
    "        numPosts = 0\n",
    "        numCommentsList = []\n",
    "        # Get number of posts by the author in the past month and the average number of comments to it\n",
    "        for thisAuthorPost in thisAuthor.submissions.top(time_filter=\"month\"):\n",
    "            numPosts = numPosts + 1\n",
    "            numComments = 0\n",
    "            for tempComment in thisAuthorPost.comments:\n",
    "                if hasattr(tempComment,'is_submitter'): # If tempComment does not have a is_submitter attribute, it is because it is a \"More Comments\" link\n",
    "                    numComments = numComments + 1\n",
    "                else:\n",
    "                    numComments = np.nan # For simplicity, just made this NaN as the summation is unknown unless clicking \"More Comments\", which is not part of this example code\n",
    "            numCommentsList.append(numComments)\n",
    "        TempDictAuthor['numPosts'] = numPosts\n",
    "        TempDictAuthor['avgCommentsToPost'] = np.mean(numCommentsList)\n",
    "    dfAuthors = dfAuthors.append(TempDictAuthor,ignore_index = True) # Append to dataframe\n",
    "    print('Retrieved data for '+str(indexAuthor+1)+' authors')\n",
    "print(dfAuthors)"
   ]
  }
 ],
 "metadata": {
  "kernelspec": {
   "display_name": "Python 3.10.6 ('friends')",
   "language": "python",
   "name": "python3"
  },
  "language_info": {
   "codemirror_mode": {
    "name": "ipython",
    "version": 3
   },
   "file_extension": ".py",
   "mimetype": "text/x-python",
   "name": "python",
   "nbconvert_exporter": "python",
   "pygments_lexer": "ipython3",
   "version": "3.10.6"
  },
  "orig_nbformat": 4,
  "vscode": {
   "interpreter": {
    "hash": "d0091d86691ae1a8a22d121e783eba1c2f1ad4db11ed4a40dbd92362d87ddbcf"
   }
  }
 },
 "nbformat": 4,
 "nbformat_minor": 2
}
