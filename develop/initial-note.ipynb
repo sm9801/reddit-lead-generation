{
 "cells": [
  {
   "cell_type": "code",
   "execution_count": 4,
   "metadata": {},
   "outputs": [],
   "source": [
    "# Hack Sample Code\n",
    "# This shows examples of logging in and using the subreddit, submission, redditor, ancd comments objects\n",
    "# It is not implied that you need to collect these specific attributes of submissions or redditors, but are merely examples\n",
    "\n",
    "# Imports\n",
    "import praw\n",
    "import pandas as pd\n",
    "import numpy as np\n",
    "import datetime\n"
   ]
  },
  {
   "cell_type": "code",
   "execution_count": 11,
   "metadata": {},
   "outputs": [],
   "source": [
    "\n",
    "# Login and create Reddit instance\n",
    "myClientIDvar = '7H-wkx3wmj96hJazvWQb-A'\n",
    "myClientSecret = 'kKTtoMJA0gYXEr9d0ohMp-niRM0yhw'\n",
    "myRedditUserName = 'Legitimate_Thing5210'\n",
    "reddit = praw.Reddit(client_id=myClientIDvar, client_secret=myClientSecret, user_agent=myRedditUserName)\n"
   ]
  },
  {
   "cell_type": "code",
   "execution_count": 35,
   "metadata": {},
   "outputs": [],
   "source": [
    "\"\"\"\n",
    "Get the top 5 posts on Christianity\n",
    "\"\"\"\n",
    "subredditName = 'christianity'\n",
    "subreddit_top_5 = reddit.subreddit(subredditName).hot(limit=5)"
   ]
  },
  {
   "cell_type": "code",
   "execution_count": 37,
   "metadata": {},
   "outputs": [
    {
     "name": "stdout",
     "output_type": "stream",
     "text": [
      "Empty DataFrame\n",
      "Columns: []\n",
      "Index: []\n"
     ]
    }
   ],
   "source": [
    "\"\"\"\"\n",
    "Get Sample Dataframe of top 5 Posts' information\n",
    "\"\"\"\n",
    "post_lists = []\n",
    "\n",
    "for indexPosts, submission in enumerate(subreddit_top_5):\n",
    "    post_lists.append({\n",
    "      'id': submission.id,\n",
    "      'Sub': subredditName,\n",
    "      'Title': submission.title,\n",
    "      'URL': submission.permalink,\n",
    "      'Time': datetime.datetime.fromtimestamp(submission.created_utc),\n",
    "      'Author': str(submission.author),\n",
    "      'Body': submission.selftext,\n",
    "      'IsSelfPost': bool(submission.is_self)\n",
    "    })\n",
    "\n",
    "    print(submission.is_self)\n",
    "    print('Retrieved data for '+str(indexPosts+1)+' posts')\n",
    "\n",
    "\n",
    "dfPosts = pd.DataFrame(post_lists)\n",
    "print(dfPosts)"
   ]
  },
  {
   "cell_type": "code",
   "execution_count": 31,
   "metadata": {},
   "outputs": [
    {
     "ename": "KeyError",
     "evalue": "'isMod'",
     "output_type": "error",
     "traceback": [
      "\u001b[1;31m---------------------------------------------------------------------------\u001b[0m",
      "\u001b[1;31mKeyError\u001b[0m                                  Traceback (most recent call last)",
      "File \u001b[1;32mc:\\Users\\natha\\anaconda3\\envs\\friends\\lib\\site-packages\\pandas\\core\\indexes\\base.py:3621\u001b[0m, in \u001b[0;36mIndex.get_loc\u001b[1;34m(self, key, method, tolerance)\u001b[0m\n\u001b[0;32m   3620\u001b[0m \u001b[39mtry\u001b[39;00m:\n\u001b[1;32m-> 3621\u001b[0m     \u001b[39mreturn\u001b[39;00m \u001b[39mself\u001b[39;49m\u001b[39m.\u001b[39;49m_engine\u001b[39m.\u001b[39;49mget_loc(casted_key)\n\u001b[0;32m   3622\u001b[0m \u001b[39mexcept\u001b[39;00m \u001b[39mKeyError\u001b[39;00m \u001b[39mas\u001b[39;00m err:\n",
      "File \u001b[1;32mc:\\Users\\natha\\anaconda3\\envs\\friends\\lib\\site-packages\\pandas\\_libs\\index.pyx:136\u001b[0m, in \u001b[0;36mpandas._libs.index.IndexEngine.get_loc\u001b[1;34m()\u001b[0m\n",
      "File \u001b[1;32mc:\\Users\\natha\\anaconda3\\envs\\friends\\lib\\site-packages\\pandas\\_libs\\index.pyx:163\u001b[0m, in \u001b[0;36mpandas._libs.index.IndexEngine.get_loc\u001b[1;34m()\u001b[0m\n",
      "File \u001b[1;32mpandas\\_libs\\hashtable_class_helper.pxi:5198\u001b[0m, in \u001b[0;36mpandas._libs.hashtable.PyObjectHashTable.get_item\u001b[1;34m()\u001b[0m\n",
      "File \u001b[1;32mpandas\\_libs\\hashtable_class_helper.pxi:5206\u001b[0m, in \u001b[0;36mpandas._libs.hashtable.PyObjectHashTable.get_item\u001b[1;34m()\u001b[0m\n",
      "\u001b[1;31mKeyError\u001b[0m: 'isMod'",
      "\nThe above exception was the direct cause of the following exception:\n",
      "\u001b[1;31mKeyError\u001b[0m                                  Traceback (most recent call last)",
      "Cell \u001b[1;32mIn [31], line 41\u001b[0m\n\u001b[0;32m     38\u001b[0m     \u001b[39mprint\u001b[39m(\u001b[39m'\u001b[39m\u001b[39mRetrieved data for \u001b[39m\u001b[39m'\u001b[39m\u001b[39m+\u001b[39m\u001b[39mstr\u001b[39m(indexAuthor\u001b[39m+\u001b[39m\u001b[39m1\u001b[39m)\u001b[39m+\u001b[39m\u001b[39m'\u001b[39m\u001b[39m authors\u001b[39m\u001b[39m'\u001b[39m)\n\u001b[0;32m     40\u001b[0m dfAuthors \u001b[39m=\u001b[39m pd\u001b[39m.\u001b[39mDataFrame(author_list)\n\u001b[1;32m---> 41\u001b[0m dfAuthors[\u001b[39m'\u001b[39m\u001b[39misMod\u001b[39m\u001b[39m'\u001b[39m] \u001b[39m=\u001b[39m dfAuthors[\u001b[39m'\u001b[39;49m\u001b[39misMod\u001b[39;49m\u001b[39m'\u001b[39;49m]\u001b[39m.\u001b[39mastype(\u001b[39m'\u001b[39m\u001b[39mbool\u001b[39m\u001b[39m'\u001b[39m)\n\u001b[0;32m     42\u001b[0m \u001b[39mprint\u001b[39m(dfAuthors)\n",
      "File \u001b[1;32mc:\\Users\\natha\\anaconda3\\envs\\friends\\lib\\site-packages\\pandas\\core\\frame.py:3505\u001b[0m, in \u001b[0;36mDataFrame.__getitem__\u001b[1;34m(self, key)\u001b[0m\n\u001b[0;32m   3503\u001b[0m \u001b[39mif\u001b[39;00m \u001b[39mself\u001b[39m\u001b[39m.\u001b[39mcolumns\u001b[39m.\u001b[39mnlevels \u001b[39m>\u001b[39m \u001b[39m1\u001b[39m:\n\u001b[0;32m   3504\u001b[0m     \u001b[39mreturn\u001b[39;00m \u001b[39mself\u001b[39m\u001b[39m.\u001b[39m_getitem_multilevel(key)\n\u001b[1;32m-> 3505\u001b[0m indexer \u001b[39m=\u001b[39m \u001b[39mself\u001b[39;49m\u001b[39m.\u001b[39;49mcolumns\u001b[39m.\u001b[39;49mget_loc(key)\n\u001b[0;32m   3506\u001b[0m \u001b[39mif\u001b[39;00m is_integer(indexer):\n\u001b[0;32m   3507\u001b[0m     indexer \u001b[39m=\u001b[39m [indexer]\n",
      "File \u001b[1;32mc:\\Users\\natha\\anaconda3\\envs\\friends\\lib\\site-packages\\pandas\\core\\indexes\\base.py:3623\u001b[0m, in \u001b[0;36mIndex.get_loc\u001b[1;34m(self, key, method, tolerance)\u001b[0m\n\u001b[0;32m   3621\u001b[0m     \u001b[39mreturn\u001b[39;00m \u001b[39mself\u001b[39m\u001b[39m.\u001b[39m_engine\u001b[39m.\u001b[39mget_loc(casted_key)\n\u001b[0;32m   3622\u001b[0m \u001b[39mexcept\u001b[39;00m \u001b[39mKeyError\u001b[39;00m \u001b[39mas\u001b[39;00m err:\n\u001b[1;32m-> 3623\u001b[0m     \u001b[39mraise\u001b[39;00m \u001b[39mKeyError\u001b[39;00m(key) \u001b[39mfrom\u001b[39;00m \u001b[39merr\u001b[39;00m\n\u001b[0;32m   3624\u001b[0m \u001b[39mexcept\u001b[39;00m \u001b[39mTypeError\u001b[39;00m:\n\u001b[0;32m   3625\u001b[0m     \u001b[39m# If we have a listlike key, _check_indexing_error will raise\u001b[39;00m\n\u001b[0;32m   3626\u001b[0m     \u001b[39m#  InvalidIndexError. Otherwise we fall through and re-raise\u001b[39;00m\n\u001b[0;32m   3627\u001b[0m     \u001b[39m#  the TypeError.\u001b[39;00m\n\u001b[0;32m   3628\u001b[0m     \u001b[39mself\u001b[39m\u001b[39m.\u001b[39m_check_indexing_error(key)\n",
      "\u001b[1;31mKeyError\u001b[0m: 'isMod'"
     ]
    }
   ],
   "source": [
    "\"\"\"\n",
    "Get Sample Dataframe of author information\n",
    "\"\"\"\n",
    "\n",
    "author_list = []\n",
    "for indexAuthor, thisIndex in enumerate(dfPosts.index):\n",
    "    # Get Entry Information\n",
    "    thisSubmission = reddit.submission(id=dfPosts.loc[thisIndex,'Unique'])\n",
    "    thisAuthor = thisSubmission.author\n",
    "\n",
    "    # Get Author Information\n",
    "    TempDictAuthor = {}\n",
    "\n",
    "    # Verifies that author exists and has not been suspended (as suspended accounts do not have most attributes)\n",
    "    if ((thisSubmission.author is not None) and hasattr(thisAuthor,'created_utc')): \n",
    "        TempDictAuthor['userName'] = thisAuthor.name\n",
    "        TempDictAuthor['accountAge'] = thisAuthor.created_utc\n",
    "        TempDictAuthor['commentKarma'] = thisAuthor.comment_karma\n",
    "        TempDictAuthor['linkKarma'] = thisAuthor.link_karma\n",
    "        TempDictAuthor['isMod'] = thisAuthor.is_mod\n",
    "        numPosts = 0\n",
    "        numCommentsList = []\n",
    "\n",
    "        # Get number of posts by the author in the past month and the average number of comments to it\n",
    "        for thisAuthorPost in thisAuthor.submissions.top(time_filter=\"month\"):\n",
    "            numPosts = numPosts + 1\n",
    "            numComments = 0\n",
    "            for tempComment in thisAuthorPost.comments:\n",
    "                if hasattr(tempComment,'is_submitter'): # If tempComment does not have a is_submitter attribute, it is because it is a \"More Comments\" link\n",
    "                    numComments = numComments + 1\n",
    "                else:\n",
    "                    numComments = np.nan # For simplicity, just made this NaN as the summation is unknown unless clicking \"More Comments\", which is not part of this example code\n",
    "            numCommentsList.append(numComments)\n",
    "        TempDictAuthor['numPosts'] = numPosts\n",
    "        TempDictAuthor['avgCommentsToPost'] = np.mean(numCommentsList)\n",
    "    author_list.append(TempDictAuthor) # Append to dataframe\n",
    "\n",
    "    print('Retrieved data for '+str(indexAuthor+1)+' authors')\n",
    "\n",
    "dfAuthors = pd.DataFrame(author_list)\n",
    "dfAuthors['isMod'] = dfAuthors['isMod'].astype('bool')\n",
    "print(dfAuthors)"
   ]
  }
 ],
 "metadata": {
  "kernelspec": {
   "display_name": "Python 3.10.6 ('friends')",
   "language": "python",
   "name": "python3"
  },
  "language_info": {
   "codemirror_mode": {
    "name": "ipython",
    "version": 3
   },
   "file_extension": ".py",
   "mimetype": "text/x-python",
   "name": "python",
   "nbconvert_exporter": "python",
   "pygments_lexer": "ipython3",
   "version": "3.10.6"
  },
  "orig_nbformat": 4,
  "vscode": {
   "interpreter": {
    "hash": "d0091d86691ae1a8a22d121e783eba1c2f1ad4db11ed4a40dbd92362d87ddbcf"
   }
  }
 },
 "nbformat": 4,
 "nbformat_minor": 2
}
