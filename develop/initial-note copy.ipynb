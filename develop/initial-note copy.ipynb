{
 "cells": [
  {
   "cell_type": "code",
   "execution_count": 4,
   "metadata": {},
   "outputs": [],
   "source": [
    "# Hack Sample Code\n",
    "# This shows examples of logging in and using the subreddit, submission, redditor, ancd comments objects\n",
    "# It is not implied that you need to collect these specific attributes of submissions or redditors, but are merely examples\n",
    "\n",
    "# Imports\n",
    "import praw\n",
    "import pandas as pd\n",
    "import numpy as np\n",
    "import datetime\n"
   ]
  },
  {
   "cell_type": "code",
   "execution_count": 11,
   "metadata": {},
   "outputs": [],
   "source": [
    "\n",
    "# Login and create Reddit instance\n",
    "myClientIDvar = '7H-wkx3wmj96hJazvWQb-A'\n",
    "myClientSecret = 'kKTtoMJA0gYXEr9d0ohMp-niRM0yhw'\n",
    "myRedditUserName = 'Legitimate_Thing5210'\n",
    "reddit = praw.Reddit(client_id=myClientIDvar, client_secret=myClientSecret, user_agent=myRedditUserName)\n"
   ]
  },
  {
   "cell_type": "code",
   "execution_count": 38,
   "metadata": {},
   "outputs": [],
   "source": [
    "\"\"\"\n",
    "Get the top 5 posts on Christianity\n",
    "\"\"\"\n",
    "subredditName = 'christianity'\n",
    "subreddit_top_5 = reddit.subreddit(subredditName).hot(limit=5)"
   ]
  },
  {
   "cell_type": "code",
   "execution_count": 39,
   "metadata": {},
   "outputs": [
    {
     "name": "stdout",
     "output_type": "stream",
     "text": [
      "True\n",
      "Retrieved data for 1 posts\n",
      "True\n",
      "Retrieved data for 2 posts\n",
      "False\n",
      "Retrieved data for 3 posts\n",
      "True\n",
      "Retrieved data for 4 posts\n",
      "True\n",
      "Retrieved data for 5 posts\n",
      "       id           Sub                                              Title  \\\n",
      "0  y9sd0x  christianity  Off-Topic Friday - Post nontopical things in t...   \n",
      "1  yaa0xf  christianity  Please pray for a woman I know and her baby an...   \n",
      "2  yag2y4  christianity  I hope this is allowed. I am severely bipolar ...   \n",
      "3  ya3b79  christianity  What are things that Christians would admit mo...   \n",
      "4  ya49tt  christianity                    Is the Pro Life Movement Toxic?   \n",
      "\n",
      "                                                 URL                Time  \\\n",
      "0  /r/Christianity/comments/y9sd0x/offtopic_frida... 2022-10-21 05:23:13   \n",
      "1  /r/Christianity/comments/yaa0xf/please_pray_fo... 2022-10-21 18:03:37   \n",
      "2  /r/Christianity/comments/yag2y4/i_hope_this_is... 2022-10-21 23:25:17   \n",
      "3  /r/Christianity/comments/ya3b79/what_are_thing... 2022-10-21 13:07:19   \n",
      "4  /r/Christianity/comments/ya49tt/is_the_pro_lif... 2022-10-21 13:46:20   \n",
      "\n",
      "             Author                                               Body  \\\n",
      "0   AgentSmithRadio  I am getting a root canal this afternoon after...   \n",
      "1  _mercurial_high_  Her husband was holding their baby (roughly 5....   \n",
      "2   GirlWhoLovesGod                                                      \n",
      "3      SteadfastEnd  I think most of us, if **truly** honest, would...   \n",
      "4      Salted_Mango  I would consider myself apart of the Pro Life ...   \n",
      "\n",
      "   IsSelfPost  \n",
      "0        True  \n",
      "1        True  \n",
      "2       False  \n",
      "3        True  \n",
      "4        True  \n"
     ]
    }
   ],
   "source": [
    "\"\"\"\"\n",
    "Get Sample Dataframe of top 5 Posts' information\n",
    "\"\"\"\n",
    "post_lists = []\n",
    "\n",
    "for indexPosts, submission in enumerate(subreddit_top_5):\n",
    "    post_lists.append({\n",
    "      'id': submission.id,\n",
    "      'Sub': subredditName,\n",
    "      'Title': submission.title,\n",
    "      'URL': submission.permalink,\n",
    "      'Time': datetime.datetime.fromtimestamp(submission.created_utc),\n",
    "      'Author': str(submission.author),\n",
    "      'Body': submission.selftext,\n",
    "      'IsSelfPost': bool(submission.is_self)\n",
    "    })\n",
    "\n",
    "    print(submission.is_self)\n",
    "    print('Retrieved data for '+str(indexPosts+1)+' posts')\n",
    "\n",
    "\n",
    "dfPosts = pd.DataFrame(post_lists)\n",
    "print(dfPosts)"
   ]
  },
  {
   "cell_type": "code",
   "execution_count": 41,
   "metadata": {},
   "outputs": [
    {
     "name": "stdout",
     "output_type": "stream",
     "text": [
      "Retrieved data for 1 authors\n",
      "Retrieved data for 2 authors\n",
      "Retrieved data for 3 authors\n",
      "Retrieved data for 4 authors\n",
      "Retrieved data for 5 authors\n",
      "           userName    accountAge  commentKarma  linkKarma  isMod  numPosts  \\\n",
      "0   AgentSmithRadio  1.430921e+09         58429      25313   True         5   \n",
      "1  _mercurial_high_  1.636953e+09          1338       1902  False        14   \n",
      "2   GirlWhoLovesGod  1.654921e+09            12         93  False         9   \n",
      "3      SteadfastEnd  1.527618e+09        178219      19394  False        59   \n",
      "4      Salted_Mango  1.665414e+09           208        553  False        25   \n",
      "\n",
      "   avgCommentsToPost  \n",
      "0               5.80  \n",
      "1               5.50  \n",
      "2               2.00  \n",
      "3                NaN  \n",
      "4              11.08  \n"
     ]
    }
   ],
   "source": [
    "\"\"\"\n",
    "Get Sample Dataframe of author information\n",
    "\"\"\"\n",
    "\n",
    "author_list = []\n",
    "for indexAuthor, thisIndex in enumerate(dfPosts.index):\n",
    "    # Get Entry Information\n",
    "    thisSubmission = reddit.submission(id=dfPosts.loc[thisIndex,'id'])\n",
    "    thisAuthor = thisSubmission.author\n",
    "\n",
    "    # Get Author Information\n",
    "    TempDictAuthor = {}\n",
    "\n",
    "    # Verifies that author exists and has not been suspended (as suspended accounts do not have most attributes)\n",
    "    if ((thisSubmission.author is not None) and hasattr(thisAuthor,'created_utc')): \n",
    "        TempDictAuthor['userName'] = thisAuthor.name\n",
    "        TempDictAuthor['accountAge'] = thisAuthor.created_utc\n",
    "        TempDictAuthor['commentKarma'] = thisAuthor.comment_karma\n",
    "        TempDictAuthor['linkKarma'] = thisAuthor.link_karma\n",
    "        TempDictAuthor['isMod'] = thisAuthor.is_mod\n",
    "        numPosts = 0\n",
    "        numCommentsList = []\n",
    "\n",
    "        # Get number of posts by the author in the past month and the average number of comments to it\n",
    "        for thisAuthorPost in thisAuthor.submissions.top(time_filter=\"month\"):\n",
    "            numPosts = numPosts + 1\n",
    "            numComments = 0\n",
    "            for tempComment in thisAuthorPost.comments:\n",
    "                if hasattr(tempComment,'is_submitter'): # If tempComment does not have a is_submitter attribute, it is because it is a \"More Comments\" link\n",
    "                    numComments = numComments + 1\n",
    "                else:\n",
    "                    numComments = np.nan # For simplicity, just made this NaN as the summation is unknown unless clicking \"More Comments\", which is not part of this example code\n",
    "            numCommentsList.append(numComments)\n",
    "        TempDictAuthor['numPosts'] = numPosts\n",
    "        TempDictAuthor['avgCommentsToPost'] = np.mean(numCommentsList)\n",
    "    author_list.append(TempDictAuthor) # Append to dataframe\n",
    "\n",
    "    print('Retrieved data for '+str(indexAuthor+1)+' authors')\n",
    "\n",
    "dfAuthors = pd.DataFrame(author_list)\n",
    "dfAuthors['isMod'] = dfAuthors['isMod'].astype('bool')\n",
    "print(dfAuthors)"
   ]
  },
  {
   "cell_type": "code",
   "execution_count": null,
   "metadata": {},
   "outputs": [],
   "source": [
    "dfAuthors\n"
   ]
  }
 ],
 "metadata": {
  "kernelspec": {
   "display_name": "Python 3.10.6 ('friends')",
   "language": "python",
   "name": "python3"
  },
  "language_info": {
   "codemirror_mode": {
    "name": "ipython",
    "version": 3
   },
   "file_extension": ".py",
   "mimetype": "text/x-python",
   "name": "python",
   "nbconvert_exporter": "python",
   "pygments_lexer": "ipython3",
   "version": "3.10.6"
  },
  "orig_nbformat": 4,
  "vscode": {
   "interpreter": {
    "hash": "d0091d86691ae1a8a22d121e783eba1c2f1ad4db11ed4a40dbd92362d87ddbcf"
   }
  }
 },
 "nbformat": 4,
 "nbformat_minor": 2
}
